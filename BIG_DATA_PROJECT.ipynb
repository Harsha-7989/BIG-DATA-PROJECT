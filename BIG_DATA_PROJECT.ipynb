{
  "nbformat": 4,
  "nbformat_minor": 0,
  "metadata": {
    "colab": {
      "provenance": []
    },
    "kernelspec": {
      "name": "python3",
      "display_name": "Python 3"
    },
    "language_info": {
      "name": "python"
    }
  },
  "cells": [
    {
      "cell_type": "markdown",
      "source": [
        "# Importing Libraries"
      ],
      "metadata": {
        "id": "_07tVybeXtPL"
      }
    },
    {
      "cell_type": "code",
      "execution_count": null,
      "metadata": {
        "colab": {
          "base_uri": "https://localhost:8080/"
        },
        "id": "V5PuiAJvTK3Q",
        "outputId": "b2972dbf-495a-4598-f04d-ef86b6f95bf0"
      },
      "outputs": [
        {
          "output_type": "stream",
          "name": "stdout",
          "text": [
            "Looking in indexes: https://pypi.org/simple, https://us-python.pkg.dev/colab-wheels/public/simple/\n",
            "Collecting pyspark\n",
            "  Downloading pyspark-3.3.2.tar.gz (281.4 MB)\n",
            "\u001b[2K     \u001b[90m━━━━━━━━━━━━━━━━━━━━━━━━━━━━━━━━━━━━━━━\u001b[0m \u001b[32m281.4/281.4 MB\u001b[0m \u001b[31m5.1 MB/s\u001b[0m eta \u001b[36m0:00:00\u001b[0m\n",
            "\u001b[?25h  Preparing metadata (setup.py) ... \u001b[?25l\u001b[?25hdone\n",
            "Collecting py4j==0.10.9.5\n",
            "  Downloading py4j-0.10.9.5-py2.py3-none-any.whl (199 kB)\n",
            "\u001b[2K     \u001b[90m━━━━━━━━━━━━━━━━━━━━━━━━━━━━━━━━━━━━━━\u001b[0m \u001b[32m199.7/199.7 kB\u001b[0m \u001b[31m13.7 MB/s\u001b[0m eta \u001b[36m0:00:00\u001b[0m\n",
            "\u001b[?25hBuilding wheels for collected packages: pyspark\n",
            "  Building wheel for pyspark (setup.py) ... \u001b[?25l\u001b[?25hdone\n",
            "  Created wheel for pyspark: filename=pyspark-3.3.2-py2.py3-none-any.whl size=281824028 sha256=cc3b66f8bf573e300f2e08c70e199a540d87260dc9b829dc1cb1ca8fb8384412\n",
            "  Stored in directory: /root/.cache/pip/wheels/6c/e3/9b/0525ce8a69478916513509d43693511463c6468db0de237c86\n",
            "Successfully built pyspark\n",
            "Installing collected packages: py4j, pyspark\n",
            "  Attempting uninstall: py4j\n",
            "    Found existing installation: py4j 0.10.9.7\n",
            "    Uninstalling py4j-0.10.9.7:\n",
            "      Successfully uninstalled py4j-0.10.9.7\n",
            "Successfully installed py4j-0.10.9.5 pyspark-3.3.2\n"
          ]
        }
      ],
      "source": [
        "!pip install pyspark\n",
        "from pyspark.sql import SparkSession\n",
        "from pyspark.sql.types import *\n",
        "import pandas as pd\n",
        "import matplotlib.pyplot as plt\n",
        "import seaborn as sns"
      ]
    },
    {
      "cell_type": "code",
      "source": [
        "spark = SparkSession.builder.appName('AmazonReviews').getOrCreate()"
      ],
      "metadata": {
        "id": "om5BzY6LTyqG"
      },
      "execution_count": null,
      "outputs": []
    },
    {
      "cell_type": "code",
      "source": [
        "import pyspark\n",
        "from pyspark.context import SparkContext \n",
        "\n",
        "from pyspark import SparkConf \n",
        "sc = SparkContext.getOrCreate(SparkConf().setMaster(\"local[4]\"))"
      ],
      "metadata": {
        "id": "MTxtKU_iXseT"
      },
      "execution_count": null,
      "outputs": []
    },
    {
      "cell_type": "markdown",
      "source": [
        "# Connecting The Collab With Drive"
      ],
      "metadata": {
        "id": "GZypQ4uoXx6l"
      }
    },
    {
      "cell_type": "code",
      "source": [
        "from google.colab import drive\n",
        "drive.mount('/content/drive')"
      ],
      "metadata": {
        "colab": {
          "base_uri": "https://localhost:8080/"
        },
        "id": "fFekVT2ZT7dj",
        "outputId": "0a77b9e9-5333-45cb-d205-eb304ddd4223"
      },
      "execution_count": null,
      "outputs": [
        {
          "output_type": "stream",
          "name": "stdout",
          "text": [
            "Mounted at /content/drive\n"
          ]
        }
      ]
    },
    {
      "cell_type": "code",
      "source": [
        "import pandas as pd\n",
        "import sklearn"
      ],
      "metadata": {
        "id": "F1sw9ZUmD0fO"
      },
      "execution_count": null,
      "outputs": []
    },
    {
      "cell_type": "markdown",
      "source": [
        "# Loading The Dataset"
      ],
      "metadata": {
        "id": "xsDQNAW7X5yX"
      }
    },
    {
      "cell_type": "code",
      "source": [
        "df = spark.read.csv('/content/drive/MyDrive/Amazon_Unlocked_Mobile.csv', header=True, inferSchema=True)"
      ],
      "metadata": {
        "id": "q1L3thptUEqS"
      },
      "execution_count": null,
      "outputs": []
    },
    {
      "cell_type": "markdown",
      "source": [
        "# Displaying 1st 5 Data"
      ],
      "metadata": {
        "id": "SR6y1QBnX9CY"
      }
    },
    {
      "cell_type": "code",
      "source": [
        "# display the dataset\n",
        "df.show(5)"
      ],
      "metadata": {
        "colab": {
          "base_uri": "https://localhost:8080/"
        },
        "id": "jFNb6a0VUXhc",
        "outputId": "635a9ec5-d34f-41cf-d8cb-bafa73ee35d5"
      },
      "execution_count": null,
      "outputs": [
        {
          "output_type": "stream",
          "name": "stdout",
          "text": [
            "+--------------------+----------+------+------+--------------------+------------+\n",
            "|        Product Name|Brand Name| Price|Rating|             Reviews|Review Votes|\n",
            "+--------------------+----------+------+------+--------------------+------------+\n",
            "|\"\"\"CLEAR CLEAN ES...|   Samsung|199.99|     5|I feel so LUCKY t...|           1|\n",
            "|\"\"\"CLEAR CLEAN ES...|   Samsung|199.99|     4|nice phone, nice ...|           0|\n",
            "|\"\"\"CLEAR CLEAN ES...|   Samsung|199.99|     5|        Very pleased|           0|\n",
            "|\"\"\"CLEAR CLEAN ES...|   Samsung|199.99|     4|It works good but...|           0|\n",
            "|\"\"\"CLEAR CLEAN ES...|   Samsung|199.99|     4|Great phone to re...|           0|\n",
            "+--------------------+----------+------+------+--------------------+------------+\n",
            "only showing top 5 rows\n",
            "\n"
          ]
        }
      ]
    },
    {
      "cell_type": "markdown",
      "source": [
        "# Checking Null Values"
      ],
      "metadata": {
        "id": "uTpEzpZkYCAC"
      }
    },
    {
      "cell_type": "code",
      "source": [
        "from pyspark.sql.functions import isnan, when, count, col\n",
        "\n",
        "# Count the number of null values in each column\n",
        "\n",
        "df.select([count(when(isnan(c) | col(c).isNull(), c)).alias(c) for c in df.columns]).show()"
      ],
      "metadata": {
        "colab": {
          "base_uri": "https://localhost:8080/"
        },
        "id": "LrSeUlxLUugA",
        "outputId": "c176c779-71c2-4d23-96c5-b5a32eb19978"
      },
      "execution_count": null,
      "outputs": [
        {
          "output_type": "stream",
          "name": "stdout",
          "text": [
            "+------------+----------+-----+------+-------+------------+\n",
            "|Product Name|Brand Name|Price|Rating|Reviews|Review Votes|\n",
            "+------------+----------+-----+------+-------+------------+\n",
            "|           0|     64376|    6|   379|     78|       11531|\n",
            "+------------+----------+-----+------+-------+------------+\n",
            "\n"
          ]
        }
      ]
    },
    {
      "cell_type": "markdown",
      "source": [
        "we have 0 null values in product name column\n",
        "\n",
        "we have 64376 null values in brand name column\n",
        "\n",
        "we have 6 null values in price column\n",
        "\n",
        "we have 379 null values in rating column\n",
        "\n",
        "we have 78 null values in reviews column\n",
        "\n",
        "we have 11531 null values in review votes column"
      ],
      "metadata": {
        "id": "1lWonI9sYeo7"
      }
    },
    {
      "cell_type": "markdown",
      "source": [
        "# Replacing Nulll Value"
      ],
      "metadata": {
        "id": "7JAv60iJb_Y3"
      }
    },
    {
      "cell_type": "code",
      "source": [
        "# Fill null values with a default value\n",
        "\n",
        "df = df.fillna({'Price': 0.0, 'Brand Name': 'Unknown', 'Reviews': 0, 'Rating': 0, 'Review Votes': 0})\n",
        "\n",
        "# Verify that there are no more null values\n",
        "\n",
        "df.select([count(when(isnan(c) | col(c).isNull(), c)).alias(c) for c in df.columns]).show()"
      ],
      "metadata": {
        "colab": {
          "base_uri": "https://localhost:8080/"
        },
        "id": "LEFN-jiEU0qO",
        "outputId": "743ea6da-74a0-4bda-c9ac-fdbb4c0b0af6"
      },
      "execution_count": null,
      "outputs": [
        {
          "output_type": "stream",
          "name": "stdout",
          "text": [
            "+------------+----------+-----+------+-------+------------+\n",
            "|Product Name|Brand Name|Price|Rating|Reviews|Review Votes|\n",
            "+------------+----------+-----+------+-------+------------+\n",
            "|           0|         0|    0|     0|      0|           0|\n",
            "+------------+----------+-----+------+-------+------------+\n",
            "\n"
          ]
        }
      ]
    },
    {
      "cell_type": "markdown",
      "source": [
        "we have replaced the null value with default value in each column\n",
        "\n",
        "as we have 0 null value in product name column we are not going to do anything\n",
        "\n",
        "we replaced the null values in Price column with 0.0\n",
        "\n",
        "we replaced the null values in Brand Name column with Unknown\n",
        "\n",
        "we replaced the null values in Reviews column with 0\n",
        "\n",
        "we replaced the null value in Rating column with 0\n",
        "\n",
        "we relaced the null value in Review Votes column with 0"
      ],
      "metadata": {
        "id": "gOLiWGgGY8wI"
      }
    },
    {
      "cell_type": "markdown",
      "source": [
        "# NO OF RECORDS"
      ],
      "metadata": {
        "id": "pCB303u_c6BM"
      }
    },
    {
      "cell_type": "code",
      "source": [
        "# total value\n",
        "\n",
        "df.count()"
      ],
      "metadata": {
        "colab": {
          "base_uri": "https://localhost:8080/"
        },
        "id": "LER24syNUenf",
        "outputId": "5867dc0c-273a-476d-ef9b-a07c60c83696"
      },
      "execution_count": null,
      "outputs": [
        {
          "output_type": "execute_result",
          "data": {
            "text/plain": [
              "413848"
            ]
          },
          "metadata": {},
          "execution_count": 9
        }
      ]
    },
    {
      "cell_type": "markdown",
      "source": [
        "we have 4,13,848 records"
      ],
      "metadata": {
        "id": "KH3oTRW1Zs2l"
      }
    },
    {
      "cell_type": "markdown",
      "source": [
        "# NO OF COLUMNS"
      ],
      "metadata": {
        "id": "s6QEbdDoc_Yt"
      }
    },
    {
      "cell_type": "code",
      "source": [
        "# total column\n",
        "\n",
        "len(df.columns)"
      ],
      "metadata": {
        "colab": {
          "base_uri": "https://localhost:8080/"
        },
        "id": "CEZrygt4U8I8",
        "outputId": "e05d358b-59c2-4834-beb9-89e8eae4102b"
      },
      "execution_count": null,
      "outputs": [
        {
          "output_type": "execute_result",
          "data": {
            "text/plain": [
              "6"
            ]
          },
          "metadata": {},
          "execution_count": 10
        }
      ]
    },
    {
      "cell_type": "markdown",
      "source": [
        "we have 6 columns"
      ],
      "metadata": {
        "id": "ywdFV8L4ZyDM"
      }
    },
    {
      "cell_type": "markdown",
      "source": [
        "# COLUMN NAMES"
      ],
      "metadata": {
        "id": "08AsUt2OdHWi"
      }
    },
    {
      "cell_type": "code",
      "source": [
        "# column name\n",
        "\n",
        "df.columns"
      ],
      "metadata": {
        "colab": {
          "base_uri": "https://localhost:8080/"
        },
        "id": "qy3Qq1ezU8-f",
        "outputId": "c55a106b-ea0d-405d-860a-02170daef09d"
      },
      "execution_count": null,
      "outputs": [
        {
          "output_type": "execute_result",
          "data": {
            "text/plain": [
              "['Product Name', 'Brand Name', 'Price', 'Rating', 'Reviews', 'Review Votes']"
            ]
          },
          "metadata": {},
          "execution_count": 11
        }
      ]
    },
    {
      "cell_type": "code",
      "source": [
        "# no of record grouped by product name\n",
        "\n",
        "df.groupBy(\"Product Name\").count().show()"
      ],
      "metadata": {
        "colab": {
          "base_uri": "https://localhost:8080/"
        },
        "id": "hDhSK8SLVZQ-",
        "outputId": "63cd0415-f413-44d1-d602-94c34746ca68"
      },
      "execution_count": null,
      "outputs": [
        {
          "output_type": "stream",
          "name": "stdout",
          "text": [
            "+--------------------+-----+\n",
            "|        Product Name|count|\n",
            "+--------------------+-----+\n",
            "|Apple iPhone 4 A1...|  330|\n",
            "|Apple iPhone 6s 1...|  163|\n",
            "|\"BLU Studio M HD ...|   47|\n",
            "|BlueCosmo Iridium...|    1|\n",
            "|\"Cellphones Unloc...|   40|\n",
            "|CNPGD® All-in-1 S...|  261|\n",
            "|Flip Phone Unlock...|    2|\n",
            "|H2O Nano SIM Card...|    1|\n",
            "|LG H955 Unlocked ...|   44|\n",
            "|LG LS670 OPTIMUS ...|    1|\n",
            "|\"LG Nexus 5 D820 ...|   62|\n",
            "|4G-Unlocked Huawe...|    7|\n",
            "|Apple iPhone 5C Y...|   10|\n",
            "|Apple iPhone 5s U...|   10|\n",
            "|Apple iPhone 6 Pl...|  176|\n",
            "|Apple iPhone SE 6...|   12|\n",
            "|ASUS ZenFone 2 Un...|   10|\n",
            "|Blackberry 9530 S...|  484|\n",
            "|BlackBerry Torch ...|   14|\n",
            "|BLU Win JR Smartp...|   42|\n",
            "+--------------------+-----+\n",
            "only showing top 20 rows\n",
            "\n"
          ]
        }
      ]
    },
    {
      "cell_type": "markdown",
      "source": [
        "330 people has bought apple iphone\n",
        "\n",
        "1 person has bought LG LS670 OPTIMUS"
      ],
      "metadata": {
        "id": "dxVmcvQ_Z4ZT"
      }
    },
    {
      "cell_type": "code",
      "source": [
        "# no of record grouped by brand name\n",
        "\n",
        "df.groupBy(\"Brand Name\").count().show()"
      ],
      "metadata": {
        "colab": {
          "base_uri": "https://localhost:8080/"
        },
        "id": "PrA2fRiuVoat",
        "outputId": "fe97ef85-2fd0-46e8-fd9c-56dc25eb5e11"
      },
      "execution_count": null,
      "outputs": [
        {
          "output_type": "stream",
          "name": "stdout",
          "text": [
            "+--------------------+-----+\n",
            "|          Brand Name|count|\n",
            "+--------------------+-----+\n",
            "|              DOOGEE|   97|\n",
            "|                 H2O|    1|\n",
            "|             Getnord|    5|\n",
            "|                Kata|   40|\n",
            "|                P710|   30|\n",
            "| Android 4.1 - In...|   36|\n",
            "|               Nokia|16086|\n",
            "|                4GB\"|    1|\n",
            "|             LandRum|    6|\n",
            "|             Ulefone|  141|\n",
            "|            px phone|   84|\n",
            "|               JIAKE|   32|\n",
            "|                13MP|  123|\n",
            "|          Jelly Bean|   42|\n",
            "|8gb - Internation...|  138|\n",
            "|         AeroAntenna|    1|\n",
            "|      Android 4.4 KK| 1390|\n",
            "|                Doro|   21|\n",
            "|             Maxwest|   15|\n",
            "|                 htc|  203|\n",
            "+--------------------+-----+\n",
            "only showing top 20 rows\n",
            "\n"
          ]
        }
      ]
    },
    {
      "cell_type": "markdown",
      "source": [
        "16086 people has bought nokia brand\n",
        "\n",
        "1 person has bought AeroAntenna , H2O brand"
      ],
      "metadata": {
        "id": "tWM4UALQaHFs"
      }
    },
    {
      "cell_type": "code",
      "source": [
        "# phone with the price >= 2000\n",
        "\n",
        "price_lesser_than_1000= df.filter(df['Price'] > 2000).show()"
      ],
      "metadata": {
        "colab": {
          "base_uri": "https://localhost:8080/"
        },
        "id": "DahLcBRgV30i",
        "outputId": "6668979d-0bf8-4914-d566-8fe6b32fca89"
      },
      "execution_count": null,
      "outputs": [
        {
          "output_type": "stream",
          "name": "stdout",
          "text": [
            "+--------------------+----------+-----+------+--------------------+------------+\n",
            "|        Product Name|Brand Name|Price|Rating|             Reviews|Review Votes|\n",
            "+--------------------+----------+-----+------+--------------------+------------+\n",
            "|BlueCosmo Iridium...|   Iridium| 2598|     5|These folks are g...|           0|\n",
            "|\"Huawei Ascend P7...|    Huawei| 2066|     1|This phonesoftwar...|           0|\n",
            "|\"Huawei Ascend P7...|    Huawei| 2066|     5|       great product|           0|\n",
            "|\"Huawei Ascend P7...|    Huawei| 2066|     5|All very good, ex...|           0|\n",
            "|\"Huawei Ascend P7...|    Huawei| 2066|     5|Super productTwo ...|           0|\n",
            "|\"Huawei Ascend P7...|    Huawei| 2066|     1|item were not as ...|           3|\n",
            "|\"Huawei Ascend P7...|    Huawei| 2066|     5|Great phone, grea...|           1|\n",
            "|Lenovo S8 S898T 5...|    Lenovo| 2224|     3|good phone. I am ...|           0|\n",
            "|Lenovo S8 S898T 5...|    Lenovo| 2224|     4|Very good product...|           0|\n",
            "|Lenovo S8 S898T 5...|    Lenovo| 2224|     1|the phone does no...|           0|\n",
            "|Lenovo S8 S898T 5...|    Lenovo| 2224|     5|  excelente producto|           0|\n",
            "|Lenovo S8 S898T 5...|    Lenovo| 2224|     1|The worst phone e...|           0|\n",
            "|Lenovo S8 S898T 5...|    Lenovo| 2224|     5|            excelent|           0|\n",
            "|Lenovo S8 S898T 5...|    Lenovo| 2224|     5|           Very good|           0|\n",
            "|Lenovo S8 S898T 5...|    Lenovo| 2224|     5|          Excelente¡|           0|\n",
            "|Lenovo S8 S898T 5...|    Lenovo| 2224|     5|                Good|           0|\n",
            "|Lenovo S8 S898T 5...|    Lenovo| 2224|     5|              i like|           0|\n",
            "|Lenovo S8 S898T 5...|    Lenovo| 2224|     5|lenovo recommend ...|           0|\n",
            "|Lenovo S8 S898T 5...|    Lenovo| 2224|     5|           Excelente|           0|\n",
            "|Lenovo S8 S898T 5...|    Lenovo| 2224|     2|         Do not work|           0|\n",
            "+--------------------+----------+-----+------+--------------------+------------+\n",
            "only showing top 20 rows\n",
            "\n"
          ]
        }
      ]
    },
    {
      "cell_type": "markdown",
      "source": [
        "maximum every phone has rating 5\n",
        "\n",
        "so it's best to buy phone at the rate greater than 2000 price"
      ],
      "metadata": {
        "id": "vKzZk_kgacmH"
      }
    },
    {
      "cell_type": "code",
      "source": [
        "# phone with highest and lowest price\n",
        "\n",
        "from pyspark.sql.functions import min , max\n",
        "\n",
        "df.select(max('Price'),min('Price')).show()"
      ],
      "metadata": {
        "colab": {
          "base_uri": "https://localhost:8080/"
        },
        "id": "K1eVRM0EaE8c",
        "outputId": "758d6c29-6444-448d-e1e3-a3157e928d0f"
      },
      "execution_count": null,
      "outputs": [
        {
          "output_type": "stream",
          "name": "stdout",
          "text": [
            "+----------+-----------------+\n",
            "|max(Price)|       min(Price)|\n",
            "+----------+-----------------+\n",
            "|  verykool| 1 GHZ Dual Core |\n",
            "+----------+-----------------+\n",
            "\n"
          ]
        }
      ]
    },
    {
      "cell_type": "markdown",
      "source": [
        "verykool mobile phone has the highest price\n",
        "\n",
        "1 GHZ Dual Core mobile phone has the lowest price"
      ],
      "metadata": {
        "id": "ITkNy8HpbK7P"
      }
    },
    {
      "cell_type": "code",
      "source": [
        "# phone with 5 rating\n",
        "\n",
        "rat_five= df.filter(df['Rating'] == 5).show()"
      ],
      "metadata": {
        "colab": {
          "base_uri": "https://localhost:8080/"
        },
        "id": "aLnuuMfSZmSa",
        "outputId": "7730eebe-73e1-49fa-e5c3-0ca907271763"
      },
      "execution_count": null,
      "outputs": [
        {
          "output_type": "stream",
          "name": "stdout",
          "text": [
            "+--------------------+----------+------+------+--------------------+------------+\n",
            "|        Product Name|Brand Name| Price|Rating|             Reviews|Review Votes|\n",
            "+--------------------+----------+------+------+--------------------+------------+\n",
            "|\"\"\"CLEAR CLEAN ES...|   Samsung|199.99|     5|I feel so LUCKY t...|           1|\n",
            "|\"\"\"CLEAR CLEAN ES...|   Samsung|199.99|     5|        Very pleased|           0|\n",
            "|\"\"\"CLEAR CLEAN ES...|   Samsung|199.99|     5|I originally was ...|           0|\n",
            "|\"\"\"CLEAR CLEAN ES...|   Samsung|199.99|     5|This is a great p...|           0|\n",
            "|\"\"\"CLEAR CLEAN ES...|   Samsung|199.99|     5|These guys are th...|           2|\n",
            "|\"\"\"CLEAR CLEAN ES...|   Samsung|199.99|     5|Ordered this phon...|           1|\n",
            "|\"\"\"CLEAR CLEAN ES...|   Samsung|199.99|     5|I was able to get...|           6|\n",
            "|\"\"\"CLEAR CLEAN ES...|   Samsung|199.99|     5|I brought this ph...|           0|\n",
            "|\"\"\"CLEAR CLEAN ES...|   Samsung|199.99|     5|the phone was gre...|           0|\n",
            "|\"\"\"CLEAR CLEAN ES...|   Samsung|199.99|     5|Phone works great...|           0|\n",
            "|\"\"\"CLEAR CLEAN ES...|   Samsung|199.99|     5|as described, fas...|           0|\n",
            "|\"\"\"CLEAR CLEAN ES...|   Samsung|199.99|     5|Perfect in every ...|           0|\n",
            "|\"\"\"CLEAR CLEAN ES...|   Samsung|199.99|     5|Just got this pho...|           0|\n",
            "|\"\"\"CLEAR CLEAN ES...|   Samsung|199.99|     5|The phone was gre...|           0|\n",
            "|\"\"\"CLEAR CLEAN ES...|   Samsung|199.99|     5|This phone came i...|           0|\n",
            "|\"\"\"CLEAR CLEAN ES...|   Samsung|199.99|     5|Met all of my exp...|           0|\n",
            "|((Unlocked))Black...|   Unknown| 269.1|     5|Great. Arrived qu...|           0|\n",
            "|((Unlocked))Black...|   Unknown| 269.1|     5|Avianna LLC is an...|           0|\n",
            "|((Unlocked))Black...|   Unknown| 269.1|     5|Exactly what I wa...|           1|\n",
            "|((Unlocked))Black...|   Unknown| 269.1|     5|Got it faster tha...|           0|\n",
            "+--------------------+----------+------+------+--------------------+------------+\n",
            "only showing top 20 rows\n",
            "\n"
          ]
        }
      ]
    },
    {
      "cell_type": "markdown",
      "source": [
        "samsung product has the highest rating - 5\n",
        "\n",
        "so it's best to buy samsung product"
      ],
      "metadata": {
        "id": "sdR0S2kpa8y8"
      }
    },
    {
      "cell_type": "code",
      "source": [
        "# phone with 4 rating\n",
        "\n",
        "rat_five= df.filter(df['Rating'] == 4).show()"
      ],
      "metadata": {
        "colab": {
          "base_uri": "https://localhost:8080/"
        },
        "id": "HlrOR3LtaCHe",
        "outputId": "417fa00c-089a-4aec-887f-004cb0043229"
      },
      "execution_count": null,
      "outputs": [
        {
          "output_type": "stream",
          "name": "stdout",
          "text": [
            "+--------------------+----------+------+------+--------------------+------------+\n",
            "|        Product Name|Brand Name| Price|Rating|             Reviews|Review Votes|\n",
            "+--------------------+----------+------+------+--------------------+------------+\n",
            "|\"\"\"CLEAR CLEAN ES...|   Samsung|199.99|     4|nice phone, nice ...|           0|\n",
            "|\"\"\"CLEAR CLEAN ES...|   Samsung|199.99|     4|It works good but...|           0|\n",
            "|\"\"\"CLEAR CLEAN ES...|   Samsung|199.99|     4|Great phone to re...|           0|\n",
            "|\"\"\"CLEAR CLEAN ES...|   Samsung|199.99|     4|I love the phone....|           1|\n",
            "|\"\"\"CLEAR CLEAN ES...|   Samsung|199.99|     4|The battery was o...|           0|\n",
            "|\"\"\"CLEAR CLEAN ES...|   Samsung|199.99|     4|pros-beautiful sc...|           0|\n",
            "|\"\"\"CLEAR CLEAN ES...|   Samsung|199.99|     4|Phone good just a...|           0|\n",
            "|\"\"\"CLEAR CLEAN ES...|   Samsung|199.99|     4|Phone's speaker l...|           0|\n",
            "|((Unlocked))Black...|   Unknown| 269.1|     4|             I liked|           0|\n",
            "|((Unlocked))Black...|   Unknown| 269.1|     4|Phone works great...|           0|\n",
            "|\"(LANDVO) 5.0\"\" C...|       HTM| 69.99|     4|All around good p...|           0|\n",
            "|\"(LANDVO) 5.0\"\" C...|       HTM| 69.99|     4|I have no problem...|           0|\n",
            "|\"(LANDVO) 5.0\"\" C...|       HTM| 69.99|     4|           MUY BUENO|           0|\n",
            "|\"(LANDVO) 5.0\"\" C...|       HTM| 69.99|     4|Its great for the...|           1|\n",
            "|\"[XMAS DEAL] [New...|    Jethro| 79.99|     4|Nice phone. Easy ...|           6|\n",
            "|[XMAS DEAL] Jethr...|    Jethro| 59.99|     4|This is a great, ...|           9|\n",
            "|[XMAS DEAL] Jethr...|    Jethro| 59.99|     4|easy to use. My m...|           1|\n",
            "|[XMAS DEAL] Jethr...|    Jethro| 59.99|     4|\"I bought it for ...|    I assume|\n",
            "|[XMAS DEAL] Jethr...|    Jethro| 59.99|     4|simple to use. Do...|           0|\n",
            "|[XMAS DEAL] Jethr...|    Jethro| 59.99|     4|Good phone for my...|           1|\n",
            "+--------------------+----------+------+------+--------------------+------------+\n",
            "only showing top 20 rows\n",
            "\n"
          ]
        }
      ]
    },
    {
      "cell_type": "code",
      "source": [
        "# phone with 3 rating\n",
        "\n",
        "rat_five= df.filter(df['Rating'] == 3).show()"
      ],
      "metadata": {
        "colab": {
          "base_uri": "https://localhost:8080/"
        },
        "id": "MKZhNJmyaEhZ",
        "outputId": "a1c50cf8-ca9b-457e-f902-982bd2c2093f"
      },
      "execution_count": null,
      "outputs": [
        {
          "output_type": "stream",
          "name": "stdout",
          "text": [
            "+--------------------+----------+------+------+--------------------+--------------------+\n",
            "|        Product Name|Brand Name| Price|Rating|             Reviews|        Review Votes|\n",
            "+--------------------+----------+------+------+--------------------+--------------------+\n",
            "|\"\"\"CLEAR CLEAN ES...|   Samsung|199.99|     3|It's battery life...|                   0|\n",
            "|\"\"\"CLEAR CLEAN ES...|   Samsung|199.99|     3|My fiance had thi...|                   0|\n",
            "|\"\"\"CLEAR CLEAN ES...|   Samsung|199.99|     3|unfortunately Spr...|                   0|\n",
            "|\"\"\"CLEAR CLEAN ES...|   Samsung|199.99|     3|the reasons for t...|                   0|\n",
            "|((Unlocked))Black...|   Unknown| 269.1|     3|Ad advertised as ...|                   0|\n",
            "|\"(LANDVO) 5.0\"\" C...|       HTM| 69.99|     3|Valid for Movilne...|                   0|\n",
            "|\"(LANDVO) 5.0\"\" C...|       HTM| 69.99|     3|The phone works g...|                   0|\n",
            "|\"[XMAS DEAL] [New...|    Jethro| 79.99|     3|the charger did n...|                   0|\n",
            "|\"[XMAS DEAL] [New...|    Jethro| 79.99|     3|         No internet|                   0|\n",
            "|\"[XMAS DEAL] [New...|    Jethro| 79.99|     3|The only reason I...|                   1|\n",
            "|\"[XMAS DEAL] [New...|    Jethro| 79.99|     3|good phone for my...|                   0|\n",
            "|\"[XMAS DEAL] [New...|    Jethro| 79.99|     3|Not as sensitive ...|                   0|\n",
            "|[XMAS DEAL] Jethr...|    Jethro| 59.99|     3|This may be an is...|                   5|\n",
            "|[XMAS DEAL] Jethr...|    Jethro| 59.99|     3|\"Word to the wise...| like Sprint. It ...|\n",
            "|[XMAS DEAL] Jethr...|    Jethro| 59.99|     3|Phone number come...|                   0|\n",
            "|[XMAS DEAL] Jethr...|    Jethro| 59.99|     3|Bought this for m...|                   8|\n",
            "|[XMAS DEAL] Jethr...|    Jethro| 59.99|     3|returned would no...|                   0|\n",
            "|[XMAS DEAL] Jethr...|    Jethro| 59.99|     3|My 79 year old mo...|                   2|\n",
            "|[XMAS DEAL] Jethr...|    Jethro| 59.99|     3|It worked alright...|                   1|\n",
            "|[XMAS DEAL] Jethr...|    Jethro| 59.99|     3|\"Word to the wise...| like Sprint. It ...|\n",
            "+--------------------+----------+------+------+--------------------+--------------------+\n",
            "only showing top 20 rows\n",
            "\n"
          ]
        }
      ]
    },
    {
      "cell_type": "code",
      "source": [
        "# phone with 2 rating\n",
        "\n",
        "rat_five= df.filter(df['Rating'] == 2).show()"
      ],
      "metadata": {
        "colab": {
          "base_uri": "https://localhost:8080/"
        },
        "id": "njNovOHeXeWu",
        "outputId": "9caf9c7e-e68a-4a54-aa61-2f216ca91812"
      },
      "execution_count": null,
      "outputs": [
        {
          "output_type": "stream",
          "name": "stdout",
          "text": [
            "+--------------------+----------+------+------+--------------------+------------+\n",
            "|        Product Name|Brand Name| Price|Rating|             Reviews|Review Votes|\n",
            "+--------------------+----------+------+------+--------------------+------------+\n",
            "|\"\"\"CLEAR CLEAN ES...|   Samsung|199.99|     2|The charging port...|           0|\n",
            "|\"\"\"CLEAR CLEAN ES...|   Samsung|199.99|     2|Phone looks good ...|           0|\n",
            "|\"\"\"CLEAR CLEAN ES...|   Samsung|199.99|     2|Had this phone be...|           0|\n",
            "|\"\"\"CLEAR CLEAN ES...|   Samsung|199.99|     2|One of the phones...|           0|\n",
            "|((Unlocked))Black...|   Unknown| 269.1|     2|when i got phone ...|           0|\n",
            "|\"(LANDVO) 5.0\"\" C...|       HTM| 69.99|     2|Delivery was fast...|           0|\n",
            "|\"(LANDVO) 5.0\"\" C...|       HTM| 69.99|     2|When I first got ...|           0|\n",
            "|\"[XMAS DEAL] [New...|    Jethro| 79.99|     2|I like the FM rad...|           0|\n",
            "|\"[XMAS DEAL] [New...|    Jethro| 79.99|     2|does not work wel...|           1|\n",
            "|\"[XMAS DEAL] [New...|    Jethro| 79.99|     2|Sounds like you a...|           0|\n",
            "|\"[XMAS DEAL] [New...|    Jethro| 79.99|     2|the phone is unab...|           1|\n",
            "|[XMAS DEAL] Jethr...|    Jethro| 59.99|     2|sound quality poo...|           0|\n",
            "|[XMAS DEAL] Jethr...|    Jethro| 59.99|     2|The speakers are ...|           0|\n",
            "|[XMAS DEAL] Jethr...|    Jethro| 59.99|     2|My Granny couldn'...|           1|\n",
            "|[XMAS DEAL] Jethr...|    Jethro| 59.99|     2|Not good sound, n...|           0|\n",
            "|[XMAS DEAL] Jethr...|    Jethro| 59.99|     2|The SIM card from...|           2|\n",
            "|[XMAS DEAL] Jethr...|    Jethro| 59.99|     2|I bought this pho...|           0|\n",
            "|[XMAS DEAL] Jethr...|    Jethro| 59.99|     2|We bought the pho...|           0|\n",
            "|[XMAS DEAL] Jethr...|    Jethro| 59.99|     2|As arrival of thi...|           1|\n",
            "|[XMAS DEAL] Jethr...|    Jethro| 59.99|     2|Pros:* The cradle...|           0|\n",
            "+--------------------+----------+------+------+--------------------+------------+\n",
            "only showing top 20 rows\n",
            "\n"
          ]
        }
      ]
    },
    {
      "cell_type": "code",
      "source": [
        "# phone with 1 rating\n",
        "\n",
        "rat_five= df.filter(df['Rating'] == 1).show()"
      ],
      "metadata": {
        "colab": {
          "base_uri": "https://localhost:8080/"
        },
        "id": "h0b9M4g-Xe90",
        "outputId": "2485bf21-411c-4170-a651-e7db9e0fad56"
      },
      "execution_count": null,
      "outputs": [
        {
          "output_type": "stream",
          "name": "stdout",
          "text": [
            "+--------------------+----------+------+------+--------------------+------------+\n",
            "|        Product Name|Brand Name| Price|Rating|             Reviews|Review Votes|\n",
            "+--------------------+----------+------+------+--------------------+------------+\n",
            "|\"\"\"CLEAR CLEAN ES...|   Samsung|199.99|     1|I already had a p...|           1|\n",
            "|\"\"\"CLEAR CLEAN ES...|   Samsung|199.99|     1|I'm really disapp...|           1|\n",
            "|\"\"\"CLEAR CLEAN ES...|   Samsung|199.99|     1|I purchased this ...|          19|\n",
            "|\"\"\"CLEAR CLEAN ES...|   Samsung|199.99|     1|was not in good c...|           0|\n",
            "|\"\"\"CLEAR CLEAN ES...|   Samsung|199.99|     1|Just... not good....|           0|\n",
            "|\"(LANDVO) 5.0\"\" C...|       HTM| 69.99|     1|Worked OK for awh...|           0|\n",
            "|\"[XMAS DEAL] [New...|    Jethro| 79.99|     1|More complicated ...|           2|\n",
            "|\"[XMAS DEAL] [New...|    Jethro| 79.99|     1|phone reception p...|           1|\n",
            "|\"[XMAS DEAL] [New...|    Jethro| 79.99|     1|I was contacting ...|           1|\n",
            "|\"[XMAS DEAL] [New...|    Jethro| 79.99|     1|Bought this phone...|           1|\n",
            "|\"[XMAS DEAL] [New...|    Jethro| 79.99|     1|I searched for un...|           1|\n",
            "|\"[XMAS DEAL] [New...|    Jethro| 79.99|     1|I am very unhappy...|           0|\n",
            "|\"[XMAS DEAL] [New...|    Jethro| 79.99|     1|Shortly after ret...|           0|\n",
            "|\"[XMAS DEAL] [New...|    Jethro| 79.99|     1|Stopped working a...|           0|\n",
            "|\"[XMAS DEAL] [New...|    Jethro| 79.99|     1|Defective product...|           2|\n",
            "|[XMAS DEAL] Jethr...|    Jethro| 59.99|     1|I bought this pho...|           0|\n",
            "|[XMAS DEAL] Jethr...|    Jethro| 59.99|     1|Ordered phone but...|           0|\n",
            "|[XMAS DEAL] Jethr...|    Jethro| 59.99|     1|Returning product...|           0|\n",
            "|[XMAS DEAL] Jethr...|    Jethro| 59.99|     1|Locks accidentall...|           0|\n",
            "|[XMAS DEAL] Jethr...|    Jethro| 59.99|     1|Very bad same wee...|           0|\n",
            "+--------------------+----------+------+------+--------------------+------------+\n",
            "only showing top 20 rows\n",
            "\n"
          ]
        }
      ]
    },
    {
      "cell_type": "code",
      "source": [
        "# no of record grouped by reviews\n",
        "\n",
        "df.groupBy(\"Reviews\").count().show()"
      ],
      "metadata": {
        "colab": {
          "base_uri": "https://localhost:8080/"
        },
        "id": "VY0Zc-RTdf_C",
        "outputId": "6b10376c-21a3-4bc4-b10c-be98a3526519"
      },
      "execution_count": null,
      "outputs": [
        {
          "output_type": "stream",
          "name": "stdout",
          "text": [
            "+--------------------+-----+\n",
            "|             Reviews|count|\n",
            "+--------------------+-----+\n",
            "|It was really bad...|    2|\n",
            "|I took this phone...|    1|\n",
            "|On point and fair...|    2|\n",
            "|After only three ...|    1|\n",
            "|Good phone..i jus...|    1|\n",
            "|I bought the phon...|    3|\n",
            "|Great condition a...|    4|\n",
            "|the iphone 3gs is...|    3|\n",
            "|Exactly as I expe...|    2|\n",
            "|After having a fe...|    1|\n",
            "|seller was great ...|    1|\n",
            "|Do NOT get this p...|    1|\n",
            "|The phone is very...|    1|\n",
            "|Got to my house e...|    1|\n",
            "|did not function ...|    3|\n",
            "|I am happy with m...|    2|\n",
            "|Having a great ti...|    2|\n",
            "|My iphone 4 arriv...|    2|\n",
            "|good items, the c...|    2|\n",
            "|It's an iPhone, s...|    1|\n",
            "+--------------------+-----+\n",
            "only showing top 20 rows\n",
            "\n"
          ]
        }
      ]
    },
    {
      "cell_type": "code",
      "source": [
        "from pyspark.sql.functions import when\n",
        "from pyspark.sql.functions import lit"
      ],
      "metadata": {
        "id": "sR2PrQ8vd3oQ"
      },
      "execution_count": null,
      "outputs": []
    },
    {
      "cell_type": "code",
      "source": [
        "df.withColumn(\"sentiment\", \\\n",
        "   when((df.Rating > 3), lit(\"positive\")) \\\n",
        "     .when((df.Rating < 3), lit(\"negative\")) \\\n",
        "     .otherwise(lit(\"neutral\")) \\\n",
        "  ).show()"
      ],
      "metadata": {
        "colab": {
          "base_uri": "https://localhost:8080/"
        },
        "id": "yr_CpBW3fZx_",
        "outputId": "f7a587da-986a-44ae-c593-f6efc665e0c7"
      },
      "execution_count": null,
      "outputs": [
        {
          "output_type": "stream",
          "name": "stdout",
          "text": [
            "+--------------------+----------+------+------+--------------------+------------+---------+\n",
            "|        Product Name|Brand Name| Price|Rating|             Reviews|Review Votes|sentiment|\n",
            "+--------------------+----------+------+------+--------------------+------------+---------+\n",
            "|\"\"\"CLEAR CLEAN ES...|   Samsung|199.99|     5|I feel so LUCKY t...|           1| positive|\n",
            "|\"\"\"CLEAR CLEAN ES...|   Samsung|199.99|     4|nice phone, nice ...|           0| positive|\n",
            "|\"\"\"CLEAR CLEAN ES...|   Samsung|199.99|     5|        Very pleased|           0| positive|\n",
            "|\"\"\"CLEAR CLEAN ES...|   Samsung|199.99|     4|It works good but...|           0| positive|\n",
            "|\"\"\"CLEAR CLEAN ES...|   Samsung|199.99|     4|Great phone to re...|           0| positive|\n",
            "|\"\"\"CLEAR CLEAN ES...|   Samsung|199.99|     1|I already had a p...|           1| negative|\n",
            "|\"\"\"CLEAR CLEAN ES...|   Samsung|199.99|     2|The charging port...|           0| negative|\n",
            "|\"\"\"CLEAR CLEAN ES...|   Samsung|199.99|     2|Phone looks good ...|           0| negative|\n",
            "|\"\"\"CLEAR CLEAN ES...|   Samsung|199.99|     5|I originally was ...|           0| positive|\n",
            "|\"\"\"CLEAR CLEAN ES...|   Samsung|199.99|     3|It's battery life...|           0|  neutral|\n",
            "|\"\"\"CLEAR CLEAN ES...|   Samsung|199.99|     3|My fiance had thi...|           0|  neutral|\n",
            "|\"\"\"CLEAR CLEAN ES...|   Samsung|199.99|     5|This is a great p...|           0| positive|\n",
            "|\"\"\"CLEAR CLEAN ES...|   Samsung|199.99|     5|These guys are th...|           2| positive|\n",
            "|\"\"\"CLEAR CLEAN ES...|   Samsung|199.99|     1|I'm really disapp...|           1| negative|\n",
            "|\"\"\"CLEAR CLEAN ES...|   Samsung|199.99|     5|Ordered this phon...|           1| positive|\n",
            "|\"\"\"CLEAR CLEAN ES...|   Samsung|199.99|     2|Had this phone be...|           0| negative|\n",
            "|\"\"\"CLEAR CLEAN ES...|   Samsung|199.99|     5|I was able to get...|           6| positive|\n",
            "|\"\"\"CLEAR CLEAN ES...|   Samsung|199.99|     5|I brought this ph...|           0| positive|\n",
            "|\"\"\"CLEAR CLEAN ES...|   Samsung|199.99|     4|I love the phone....|           1| positive|\n",
            "|\"\"\"CLEAR CLEAN ES...|   Samsung|199.99|     3|unfortunately Spr...|           0|  neutral|\n",
            "+--------------------+----------+------+------+--------------------+------------+---------+\n",
            "only showing top 20 rows\n",
            "\n"
          ]
        }
      ]
    },
    {
      "cell_type": "code",
      "source": [
        "df.filter(df['Reviews'] == \"great phone\").show()"
      ],
      "metadata": {
        "colab": {
          "base_uri": "https://localhost:8080/"
        },
        "id": "uPBtJJapePJV",
        "outputId": "82fa5334-da04-4e9b-81a8-65f8dc4bd1cf"
      },
      "execution_count": null,
      "outputs": [
        {
          "output_type": "stream",
          "name": "stdout",
          "text": [
            "+--------------------+----------+------+------+-----------+------------+\n",
            "|        Product Name|Brand Name| Price|Rating|    Reviews|Review Votes|\n",
            "+--------------------+----------+------+------+-----------+------------+\n",
            "|Apple Iphone 4 - ...|   Unknown|    NA|     5|great phone|           0|\n",
            "|Apple iPhone 4 16...|     Apple|208.79|     5|great phone|           0|\n",
            "|Apple iPhone 4 16...|     Apple|208.79|     5|great phone|           0|\n",
            "|Apple iPhone 4 32...|     Apple| 99.99|     5|great phone|           0|\n",
            "|Apple iPhone 4S 3...|     Apple|209.48|     5|great phone|           0|\n",
            "|Apple iPhone 4S 6...|     Apple|   114|     5|great phone|           0|\n",
            "|Apple iPhone 4S 6...|     Apple|   114|     5|great phone|           0|\n",
            "|Apple iPhone 4s a...|   Unknown|159.99|     5|great phone|           0|\n",
            "|Apple iPhone 5 Un...|     Apple|   265|     5|great phone|           0|\n",
            "|Apple iPhone 5 Un...|     Apple|   309|     5|great phone|           0|\n",
            "|Apple iPhone 5 Un...|     Apple|   309|     5|great phone|           0|\n",
            "|Apple iPhone 5 Un...|     Apple|314.95|     5|great phone|           0|\n",
            "|Apple iPhone 5C 1...|   Unknown|149.99|     5|great phone|           0|\n",
            "|Apple iPhone 5s 1...|     Apple|149.99|     5|great phone|           0|\n",
            "|Apple iPhone 5s 3...|     Apple|   125|     5|great phone|           0|\n",
            "|Apple iPhone 5s 3...|     Apple|   209|     5|great phone|           0|\n",
            "|Apple iPhone 5s 3...|     Apple|   209|     5|great phone|           0|\n",
            "|Apple iPhone 5s 3...|     Apple|    49|     5|great phone|           0|\n",
            "|Apple iPhone 5s 6...|     Apple|239.95|     5|great phone|           0|\n",
            "|Apple iPhone 5s F...|     Apple|272.99|     5|great phone|           0|\n",
            "+--------------------+----------+------+------+-----------+------------+\n",
            "only showing top 20 rows\n",
            "\n"
          ]
        }
      ]
    },
    {
      "cell_type": "code",
      "source": [
        "df.filter(df['Reviews'] == \"not good\").show()"
      ],
      "metadata": {
        "colab": {
          "base_uri": "https://localhost:8080/"
        },
        "id": "Z9qRZKDAeO-7",
        "outputId": "99c2429a-453a-461b-881c-3d17468ccc17"
      },
      "execution_count": null,
      "outputs": [
        {
          "output_type": "stream",
          "name": "stdout",
          "text": [
            "+--------------------+----------+------+------+--------+------------+\n",
            "|        Product Name|Brand Name| Price|Rating| Reviews|Review Votes|\n",
            "+--------------------+----------+------+------+--------+------------+\n",
            "|4 Inch Touch Scre...|   Unknown|  23.9|     1|not good|           0|\n",
            "|4 Inch Touch Scre...|   Unknown|  23.9|     1|not good|           0|\n",
            "|Apple iPhone 5 Un...|     Apple|   309|     1|not good|           0|\n",
            "|Apple iPhone 5 Un...|     Apple|314.95|     1|not good|           0|\n",
            "|Apple iPhone 5 Un...|     Apple|314.95|     1|not good|           0|\n",
            "|Apple iPhone 6 Pl...|   Unknown|699.95|     2|not good|           1|\n",
            "|Apple iPhone 6 Pl...|     Apple|   615|     2|not good|           1|\n",
            "|Apple iPhone 6 Pl...|     Apple|   605|     2|not good|           1|\n",
            "|Apple iPhone 6 Pl...|     Apple|   519|     2|not good|           1|\n",
            "|Apple iPhone 6 Pl...|   Unknown|   490|     2|not good|           1|\n",
            "|BLU Studio 5.0 HD...|       BLU|107.98|     1|not good|           0|\n",
            "|BLU Studio 5.0 HD...|       BLU|119.99|     1|not good|           0|\n",
            "|LG Neon GT365 Pre...|        LG| 69.99|     1|not good|           0|\n",
            "|Motorola Droid RA...|  Motorola| 68.34|     1|not good|           0|\n",
            "|Nokia 6350 Gray A...|     Nokia| 269.1|     1|not good|           0|\n",
            "|Nokia C2-01.5 Unl...|     Nokia|    98|     1|not good|           0|\n",
            "|\"Samsung Galaxy G...|   Samsung|434.99|     2|not good|           0|\n",
            "|Samsung Galaxy S6...|   Samsung|   529|     2|not good|           0|\n",
            "|Samsung Galaxy S6...|   Samsung|   529|     2|not good|           0|\n",
            "|Samsung Galaxy S6...|   Samsung|   449|     2|not good|           0|\n",
            "+--------------------+----------+------+------+--------+------------+\n",
            "only showing top 20 rows\n",
            "\n"
          ]
        }
      ]
    },
    {
      "cell_type": "code",
      "source": [
        "from pyspark.ml.feature import Tokenizer, StopWordsRemover, HashingTF, IDF, StringIndexer\n",
        "from pyspark.ml.classification import NaiveBayes, LogisticRegression, RandomForestClassifier\n",
        "from pyspark.ml.evaluation import MulticlassClassificationEvaluator\n",
        "from pyspark.ml.pipeline import Pipeline\n",
        "from pyspark.mllib.evaluation import MulticlassMetrics\n"
      ],
      "metadata": {
        "id": "pevQ1FxZ3_XR"
      },
      "execution_count": null,
      "outputs": []
    },
    {
      "cell_type": "code",
      "source": [
        "#Naive Bayes classifier\n",
        "tokenizer = Tokenizer(inputCol='Review Votes', outputCol='words')\n",
        "remover = StopWordsRemover(inputCol=tokenizer.getOutputCol(), outputCol='filtered')\n",
        "hashingTF = HashingTF(inputCol=remover.getOutputCol(), outputCol='rawFeatures', numFeatures=1000)\n",
        "idf = IDF(inputCol=hashingTF.getOutputCol(), outputCol='features')\n",
        "labelIndexer = StringIndexer(inputCol='Rating', outputCol='label', handleInvalid='keep')\n",
        "\n",
        "nb = NaiveBayes()\n",
        "\n",
        "pipeline = Pipeline(stages=[tokenizer, remover, hashingTF, idf, labelIndexer, nb])\n",
        "\n",
        "(trainingData, testData) = df.randomSplit([0.7, 0.3], seed=123)\n",
        "\n",
        "model = pipeline.fit(trainingData)\n",
        "\n",
        "predictions = model.transform(testData)\n",
        "\n",
        "evaluator = MulticlassClassificationEvaluator(labelCol='label', predictionCol='prediction', metricName='accuracy')\n",
        "accuracy = evaluator.evaluate(predictions)\n",
        "\n",
        "print(f'Accuracy: {accuracy}')\n"
      ],
      "metadata": {
        "colab": {
          "base_uri": "https://localhost:8080/"
        },
        "id": "2bGWvscW4CXc",
        "outputId": "38093f91-a10a-46a6-b183-340016a996e3"
      },
      "execution_count": null,
      "outputs": [
        {
          "output_type": "stream",
          "name": "stdout",
          "text": [
            "Accuracy: 0.5200615047738653\n"
          ]
        }
      ]
    },
    {
      "cell_type": "code",
      "source": [
        "# Calculate evaluation metrics\n",
        "metrics = MulticlassMetrics(predictions.select('prediction', 'label').rdd)\n",
        "prec = metrics.weightedPrecision\n",
        "rec = metrics.weightedRecall\n",
        "f1 = metrics.weightedFMeasure()\n",
        "\n",
        "\n",
        "# Print evaluation metrics\n",
        "print(f'Precision: {prec}')\n",
        "print(f'Recall: {rec}')\n",
        "print(f'F1 Score: {f1}')\n"
      ],
      "metadata": {
        "colab": {
          "base_uri": "https://localhost:8080/"
        },
        "id": "VJFZH44u4bkx",
        "outputId": "efd8666c-c2b0-4fad-e1dc-fdf0f960f2fe"
      },
      "execution_count": null,
      "outputs": [
        {
          "output_type": "stream",
          "name": "stdout",
          "text": [
            "Precision: 0.4379434522510633\n",
            "Recall: 0.5200615047738654\n",
            "F1 Score: 0.39322363287054907\n"
          ]
        }
      ]
    },
    {
      "cell_type": "code",
      "source": [
        "#Logistic regression classifier\n",
        "lr = LogisticRegression(maxIter=10, regParam=0.01)\n",
        "\n",
        "pipeline = Pipeline(stages=[tokenizer, remover, hashingTF, idf, labelIndexer, lr])\n",
        "\n",
        "(trainingData, testData) = df.randomSplit([0.7, 0.3], seed=123)\n",
        "\n",
        "model = pipeline.fit(trainingData)\n",
        "\n",
        "predictions = model.transform(testData)\n",
        "\n",
        "evaluator = MulticlassClassificationEvaluator(labelCol='label', predictionCol='prediction', metricName='accuracy')\n",
        "accuracy = evaluator.evaluate(predictions)\n",
        "\n",
        "print(f'Accuracy: {accuracy}')\n",
        "\n",
        "# Calculate evaluation metrics\n",
        "metrics = MulticlassMetrics(predictions.select('prediction', 'label').rdd)\n",
        "prec = metrics.weightedPrecision\n",
        "rec = metrics.weightedRecall\n",
        "f1 = metrics.weightedFMeasure()\n",
        "\n",
        "\n",
        "# Print evaluation metrics\n",
        "print(f'Precision: {prec}')\n",
        "print(f'Recall: {rec}')\n",
        "print(f'F1 Score: {f1}')"
      ],
      "metadata": {
        "colab": {
          "base_uri": "https://localhost:8080/"
        },
        "id": "5xm2gEGD4jNt",
        "outputId": "55651010-8bf2-4481-b35a-5d91c7215f86"
      },
      "execution_count": null,
      "outputs": [
        {
          "output_type": "stream",
          "name": "stdout",
          "text": [
            "Accuracy: 0.5396560884895909\n",
            "Precision: 0.48746599312436023\n",
            "Recall: 0.5396560884895908\n",
            "F1 Score: 0.3901890112525952\n"
          ]
        }
      ]
    },
    {
      "cell_type": "code",
      "source": [
        "#Random forest classifier\n",
        "rf = RandomForestClassifier(numTrees=10)\n",
        "\n",
        "pipeline = Pipeline(stages=[tokenizer, remover, hashingTF, idf, labelIndexer, rf])\n",
        "\n",
        "(trainingData, testData) = df.randomSplit([0.7, 0.3], seed=123)\n",
        "\n",
        "model = pipeline.fit(trainingData)\n",
        "\n",
        "predictions = model.transform(testData)\n",
        "\n",
        "evaluator = MulticlassClassificationEvaluator(labelCol='label', predictionCol='prediction', metricName='accuracy')\n",
        "accuracy = evaluator.evaluate(predictions)\n",
        "\n",
        "print(f'Random forest classifier Accuracy: {accuracy}')\n",
        "\n",
        "# Calculate evaluation metrics\n",
        "metrics = MulticlassMetrics(predictions.select('prediction', 'label').rdd)\n",
        "prec = metrics.weightedPrecision\n",
        "rec = metrics.weightedRecall\n",
        "f1 = metrics.weightedFMeasure()\n",
        "\n",
        "\n",
        "# Print evaluation metrics\n",
        "print(f'Precision: {prec}')\n",
        "print(f'Recall: {rec}')\n",
        "print(f'F1 Score: {f1}')"
      ],
      "metadata": {
        "colab": {
          "base_uri": "https://localhost:8080/"
        },
        "id": "6jMhWEGQ4nfP",
        "outputId": "c443607d-ab97-4766-92ac-f36529510b7a"
      },
      "execution_count": null,
      "outputs": [
        {
          "output_type": "stream",
          "name": "stdout",
          "text": [
            "Random forest classifier Accuracy: 0.5223961100645639\n",
            "Precision: 0.4173603011272721\n",
            "Recall: 0.5223961100645639\n",
            "F1 Score: 0.3586813433651473\n"
          ]
        }
      ]
    },
    {
      "cell_type": "code",
      "source": [
        "#Decision Tree classifier\n",
        "from pyspark.ml.classification import DecisionTreeClassifier\n",
        "\n",
        "dt = DecisionTreeClassifier(labelCol='label', featuresCol='features')\n",
        "\n",
        "pipeline = Pipeline(stages=[tokenizer, remover, hashingTF, idf, labelIndexer, dt])\n",
        "\n",
        "(trainingData, testData) = df.randomSplit([0.7, 0.3], seed=123)\n",
        "\n",
        "model = pipeline.fit(trainingData)\n",
        "\n",
        "predictions = model.transform(testData)\n",
        "\n",
        "evaluator = MulticlassClassificationEvaluator(labelCol='label', predictionCol='prediction', metricName='accuracy')\n",
        "accuracy = evaluator.evaluate(predictions)\n",
        "\n",
        "print(f'Accuracy: {accuracy}')\n",
        "\n",
        "# Calculate evaluation metrics\n",
        "metrics = MulticlassMetrics(predictions.select('prediction', 'label').rdd)\n",
        "prec = metrics.weightedPrecision\n",
        "rec = metrics.weightedRecall\n",
        "f1 = metrics.weightedFMeasure()\n",
        "\n",
        "\n",
        "# Print evaluation metrics\n",
        "print(f'Precision: {prec}')\n",
        "print(f'Recall: {rec}')\n",
        "print(f'F1 Score: {f1}')"
      ],
      "metadata": {
        "colab": {
          "base_uri": "https://localhost:8080/"
        },
        "id": "LxDhNO8O4wvp",
        "outputId": "22f3f941-c5fb-4006-e30e-deebebe821bf"
      },
      "execution_count": null,
      "outputs": [
        {
          "output_type": "stream",
          "name": "stdout",
          "text": [
            "Accuracy: 0.5290698610507334\n",
            "Precision: 0.3314578038398621\n",
            "Recall: 0.5290698610507334\n",
            "F1 Score: 0.3674930330395204\n"
          ]
        }
      ]
    },
    {
      "cell_type": "code",
      "source": [
        "# K-means clustering\n",
        "from pyspark.ml.clustering import KMeans\n",
        "\n",
        "kmeans = KMeans().setK(2).setSeed(1)\n",
        "pipeline = Pipeline(stages=[tokenizer, remover, hashingTF, idf, labelIndexer, kmeans])\n",
        "\n",
        "(trainingData, testData) = df.randomSplit([0.7, 0.3], seed=123)\n",
        "\n",
        "model = pipeline.fit(trainingData)\n",
        "\n",
        "predictions = model.transform(testData).withColumn(\"prediction\", col(\"prediction\").cast(\"double\"))\n",
        "\n",
        "evaluator = MulticlassClassificationEvaluator(labelCol='label', predictionCol='prediction', metricName='accuracy')\n",
        "accuracy = evaluator.evaluate(predictions)\n",
        "\n",
        "print(f'Accuracy: {accuracy}')\n",
        "\n",
        "# Calculate evaluation metrics\n",
        "metrics = MulticlassMetrics(predictions.select('prediction', 'label').rdd)\n",
        "prec = metrics.weightedPrecision\n",
        "rec = metrics.weightedRecall\n",
        "f1 = metrics.weightedFMeasure()\n",
        "\n",
        "\n",
        "# Print evaluation metrics\n",
        "print(f'Precision: {prec}')\n",
        "print(f'Recall: {rec}')\n",
        "print(f'F1 Score: {f1}')"
      ],
      "metadata": {
        "colab": {
          "base_uri": "https://localhost:8080/"
        },
        "id": "N3xAutMl4wjK",
        "outputId": "5449364d-ee8f-493d-ddc4-8dfb1c703891"
      },
      "execution_count": null,
      "outputs": [
        {
          "output_type": "stream",
          "name": "stdout",
          "text": [
            "Accuracy: 0.5218889371910673\n",
            "Precision: 0.27237244815661843\n",
            "Recall: 0.5218889371910673\n",
            "F1 Score: 0.35793800406490034\n"
          ]
        }
      ]
    }
  ]
}